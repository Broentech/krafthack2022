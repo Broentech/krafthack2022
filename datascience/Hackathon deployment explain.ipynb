{
 "cells": [
  {
   "cell_type": "code",
   "execution_count": null,
   "id": "6f83f246",
   "metadata": {},
   "outputs": [],
   "source": [
    "import pickle\n",
    "import xgboost as xgb\n",
    "\n",
    "tensile_number = 1\n",
    "model_type = \"xgboost\"\n",
    "\n",
    "scaler_name = \"Bolt_\" + str(tensile_number) + \"_\" + \"Tensile_\" + \"scaler\" + \".pkl\"\n",
    "model_name = \"Bolt_\" + str(tensile_number) + \"_\" + \"Tensile_\" + model_type + \".pkl\"\n",
    "\n",
    "scaler = pickle.load(open(scaler_name, 'rb'))\n",
    "\n",
    "if model_type == \"xgboost\":\n",
    "    model_name = \"Bolt_\" + str(tensile_number) + \"_\" + \"Tensile_\" + model_type + \".json\"\n",
    "    model = xgb.XGBRegressor()\n",
    "    model.load_model(model_name)"
   ]
  },
  {
   "cell_type": "code",
   "execution_count": null,
   "id": "32fa10da",
   "metadata": {},
   "outputs": [],
   "source": [
    "# the input data is an array with shape (1,8)\n",
    "# The 8 values are 'Unit_4_Power', 'Unit_4_Reactive Power', 'Turbine_Guide Vane Opening', \n",
    "# 'Turbine_Pressure Drafttube', 'Turbine_Pressure Spiral Casing', 'Turbine_Rotational Speed', \n",
    "# and 'mode_operation', 'mode_start'\n",
    "# please note 'mode_operation', 'mode_start' is ont hot encoded mode value\n",
    "\n",
    "import numpy as np\n",
    "input_data = np.array([262.204308, 2.899036, 82.279976, 173.955216, 5310.799181, 107.964278, 1, 0]).reshape(1,-1)"
   ]
  },
  {
   "cell_type": "code",
   "execution_count": null,
   "id": "5da9413a",
   "metadata": {},
   "outputs": [],
   "source": [
    "# We scale the first 6 values\n",
    "scalered_values = scaler.transform(input_data[:,:6])"
   ]
  },
  {
   "cell_type": "code",
   "execution_count": null,
   "id": "54eedc1f",
   "metadata": {},
   "outputs": [],
   "source": [
    "scalered_values"
   ]
  },
  {
   "cell_type": "code",
   "execution_count": null,
   "id": "9418d72f",
   "metadata": {},
   "outputs": [],
   "source": [
    "# Then concatenate with the one hot encoded mode values\n",
    "X_scalered = np.concatenate((scalered_values, input_data[:,6:]), axis=1)\n",
    "X_scalered"
   ]
  },
  {
   "cell_type": "code",
   "execution_count": null,
   "id": "d1fd835d",
   "metadata": {},
   "outputs": [],
   "source": [
    "# and make the prediction using the model\n",
    "predicted = model.predict(input_df.values)\n",
    "predicted"
   ]
  }
 ],
 "metadata": {
  "kernelspec": {
   "display_name": "Python 3 (ipykernel)",
   "language": "python",
   "name": "python3"
  },
  "language_info": {
   "codemirror_mode": {
    "name": "ipython",
    "version": 3
   },
   "file_extension": ".py",
   "mimetype": "text/x-python",
   "name": "python",
   "nbconvert_exporter": "python",
   "pygments_lexer": "ipython3",
   "version": "3.8.5"
  }
 },
 "nbformat": 4,
 "nbformat_minor": 5
}
